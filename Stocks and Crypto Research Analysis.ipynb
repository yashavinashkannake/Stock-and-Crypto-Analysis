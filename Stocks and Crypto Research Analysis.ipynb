{
 "cells": [
  {
   "cell_type": "markdown",
   "id": "989f0b32",
   "metadata": {},
   "source": [
    "# Stock Prices Prediction Using Machine Learning and Deep Learning Techniques\n",
    "\n",
    "# Problem Statement\n",
    "We are going to use Time Series data to analysis of stock price(Apple company dataset).\n",
    "\n",
    "Time series forecasting is a technique for the prediction of events through a sequence of time. The technique is used across many fields of study, from geology to behavior to economics. The techniques predict future events by analyzing the trends of the past, on the assumption that future trends will hold similar to historical trends.\n",
    "Time Series forecasting & modeling plays an important role in data analysis. \n",
    "\n",
    "Time Series is being widely used in analytics & data science.  Stock Prices Prediction problem is based on  Time Series data.\n",
    "# Goal\n",
    "The goal of this project is to make a prediction model which will predict the future stock price based on the given dataset.\n",
    "\n"
   ]
  },
  {
   "cell_type": "markdown",
   "id": "ab0d47dd",
   "metadata": {},
   "source": [
    "\n",
    "# Contents\n",
    " 1. Problem Statement\n",
    " 2. Goal\n",
    " 3. Importing required libraries and Dataset\n",
    " 4. Feature Scaling\n",
    " 5. Time Series Split\n",
    " 7. Prediction Models\n",
    "  \n",
    "      1] Long short-term memory (LSTM)\n",
    "      \n",
    "      2] Linear Regression\n",
    "      \n",
    "      3] k-Nearest Neighbors\n",
    "\n",
    "\n",
    " 8. Conclusion\n",
    " \n",
    "  \n"
   ]
  },
  {
   "cell_type": "markdown",
   "id": "66f741c2",
   "metadata": {},
   "source": [
    "\n",
    "# Importing required libraries and Dataset"
   ]
  },
  {
   "cell_type": "code",
   "execution_count": 1,
   "id": "062eb555",
   "metadata": {},
   "outputs": [],
   "source": [
    "import pandas as pd"
   ]
  },
  {
   "cell_type": "code",
   "execution_count": 2,
   "id": "cff9425a",
   "metadata": {},
   "outputs": [
    {
     "data": {
      "text/html": [
       "<div>\n",
       "<style scoped>\n",
       "    .dataframe tbody tr th:only-of-type {\n",
       "        vertical-align: middle;\n",
       "    }\n",
       "\n",
       "    .dataframe tbody tr th {\n",
       "        vertical-align: top;\n",
       "    }\n",
       "\n",
       "    .dataframe thead th {\n",
       "        text-align: right;\n",
       "    }\n",
       "</style>\n",
       "<table border=\"1\" class=\"dataframe\">\n",
       "  <thead>\n",
       "    <tr style=\"text-align: right;\">\n",
       "      <th></th>\n",
       "      <th>Unnamed: 0</th>\n",
       "      <th>symbol</th>\n",
       "      <th>date</th>\n",
       "      <th>close</th>\n",
       "      <th>high</th>\n",
       "      <th>low</th>\n",
       "      <th>open</th>\n",
       "      <th>volume</th>\n",
       "      <th>adjClose</th>\n",
       "      <th>adjHigh</th>\n",
       "      <th>adjLow</th>\n",
       "      <th>adjOpen</th>\n",
       "      <th>adjVolume</th>\n",
       "      <th>divCash</th>\n",
       "      <th>splitFactor</th>\n",
       "    </tr>\n",
       "  </thead>\n",
       "  <tbody>\n",
       "    <tr>\n",
       "      <th>0</th>\n",
       "      <td>0</td>\n",
       "      <td>AAPL</td>\n",
       "      <td>2015-05-27 00:00:00+00:00</td>\n",
       "      <td>132.045</td>\n",
       "      <td>132.260</td>\n",
       "      <td>130.0500</td>\n",
       "      <td>130.34</td>\n",
       "      <td>45833246</td>\n",
       "      <td>121.682558</td>\n",
       "      <td>121.880685</td>\n",
       "      <td>119.844118</td>\n",
       "      <td>120.111360</td>\n",
       "      <td>45833246</td>\n",
       "      <td>0.0</td>\n",
       "      <td>1.0</td>\n",
       "    </tr>\n",
       "    <tr>\n",
       "      <th>1</th>\n",
       "      <td>1</td>\n",
       "      <td>AAPL</td>\n",
       "      <td>2015-05-28 00:00:00+00:00</td>\n",
       "      <td>131.780</td>\n",
       "      <td>131.950</td>\n",
       "      <td>131.1000</td>\n",
       "      <td>131.86</td>\n",
       "      <td>30733309</td>\n",
       "      <td>121.438354</td>\n",
       "      <td>121.595013</td>\n",
       "      <td>120.811718</td>\n",
       "      <td>121.512076</td>\n",
       "      <td>30733309</td>\n",
       "      <td>0.0</td>\n",
       "      <td>1.0</td>\n",
       "    </tr>\n",
       "    <tr>\n",
       "      <th>2</th>\n",
       "      <td>2</td>\n",
       "      <td>AAPL</td>\n",
       "      <td>2015-05-29 00:00:00+00:00</td>\n",
       "      <td>130.280</td>\n",
       "      <td>131.450</td>\n",
       "      <td>129.9000</td>\n",
       "      <td>131.23</td>\n",
       "      <td>50884452</td>\n",
       "      <td>120.056069</td>\n",
       "      <td>121.134251</td>\n",
       "      <td>119.705890</td>\n",
       "      <td>120.931516</td>\n",
       "      <td>50884452</td>\n",
       "      <td>0.0</td>\n",
       "      <td>1.0</td>\n",
       "    </tr>\n",
       "    <tr>\n",
       "      <th>3</th>\n",
       "      <td>3</td>\n",
       "      <td>AAPL</td>\n",
       "      <td>2015-06-01 00:00:00+00:00</td>\n",
       "      <td>130.535</td>\n",
       "      <td>131.390</td>\n",
       "      <td>130.0500</td>\n",
       "      <td>131.20</td>\n",
       "      <td>32112797</td>\n",
       "      <td>120.291057</td>\n",
       "      <td>121.078960</td>\n",
       "      <td>119.844118</td>\n",
       "      <td>120.903870</td>\n",
       "      <td>32112797</td>\n",
       "      <td>0.0</td>\n",
       "      <td>1.0</td>\n",
       "    </tr>\n",
       "    <tr>\n",
       "      <th>4</th>\n",
       "      <td>4</td>\n",
       "      <td>AAPL</td>\n",
       "      <td>2015-06-02 00:00:00+00:00</td>\n",
       "      <td>129.960</td>\n",
       "      <td>130.655</td>\n",
       "      <td>129.3200</td>\n",
       "      <td>129.86</td>\n",
       "      <td>33667627</td>\n",
       "      <td>119.761181</td>\n",
       "      <td>120.401640</td>\n",
       "      <td>119.171406</td>\n",
       "      <td>119.669029</td>\n",
       "      <td>33667627</td>\n",
       "      <td>0.0</td>\n",
       "      <td>1.0</td>\n",
       "    </tr>\n",
       "    <tr>\n",
       "      <th>...</th>\n",
       "      <td>...</td>\n",
       "      <td>...</td>\n",
       "      <td>...</td>\n",
       "      <td>...</td>\n",
       "      <td>...</td>\n",
       "      <td>...</td>\n",
       "      <td>...</td>\n",
       "      <td>...</td>\n",
       "      <td>...</td>\n",
       "      <td>...</td>\n",
       "      <td>...</td>\n",
       "      <td>...</td>\n",
       "      <td>...</td>\n",
       "      <td>...</td>\n",
       "      <td>...</td>\n",
       "    </tr>\n",
       "    <tr>\n",
       "      <th>1253</th>\n",
       "      <td>1253</td>\n",
       "      <td>AAPL</td>\n",
       "      <td>2020-05-18 00:00:00+00:00</td>\n",
       "      <td>314.960</td>\n",
       "      <td>316.500</td>\n",
       "      <td>310.3241</td>\n",
       "      <td>313.17</td>\n",
       "      <td>33843125</td>\n",
       "      <td>314.960000</td>\n",
       "      <td>316.500000</td>\n",
       "      <td>310.324100</td>\n",
       "      <td>313.170000</td>\n",
       "      <td>33843125</td>\n",
       "      <td>0.0</td>\n",
       "      <td>1.0</td>\n",
       "    </tr>\n",
       "    <tr>\n",
       "      <th>1254</th>\n",
       "      <td>1254</td>\n",
       "      <td>AAPL</td>\n",
       "      <td>2020-05-19 00:00:00+00:00</td>\n",
       "      <td>313.140</td>\n",
       "      <td>318.520</td>\n",
       "      <td>313.0100</td>\n",
       "      <td>315.03</td>\n",
       "      <td>25432385</td>\n",
       "      <td>313.140000</td>\n",
       "      <td>318.520000</td>\n",
       "      <td>313.010000</td>\n",
       "      <td>315.030000</td>\n",
       "      <td>25432385</td>\n",
       "      <td>0.0</td>\n",
       "      <td>1.0</td>\n",
       "    </tr>\n",
       "    <tr>\n",
       "      <th>1255</th>\n",
       "      <td>1255</td>\n",
       "      <td>AAPL</td>\n",
       "      <td>2020-05-20 00:00:00+00:00</td>\n",
       "      <td>319.230</td>\n",
       "      <td>319.520</td>\n",
       "      <td>316.2000</td>\n",
       "      <td>316.68</td>\n",
       "      <td>27876215</td>\n",
       "      <td>319.230000</td>\n",
       "      <td>319.520000</td>\n",
       "      <td>316.200000</td>\n",
       "      <td>316.680000</td>\n",
       "      <td>27876215</td>\n",
       "      <td>0.0</td>\n",
       "      <td>1.0</td>\n",
       "    </tr>\n",
       "    <tr>\n",
       "      <th>1256</th>\n",
       "      <td>1256</td>\n",
       "      <td>AAPL</td>\n",
       "      <td>2020-05-21 00:00:00+00:00</td>\n",
       "      <td>316.850</td>\n",
       "      <td>320.890</td>\n",
       "      <td>315.8700</td>\n",
       "      <td>318.66</td>\n",
       "      <td>25672211</td>\n",
       "      <td>316.850000</td>\n",
       "      <td>320.890000</td>\n",
       "      <td>315.870000</td>\n",
       "      <td>318.660000</td>\n",
       "      <td>25672211</td>\n",
       "      <td>0.0</td>\n",
       "      <td>1.0</td>\n",
       "    </tr>\n",
       "    <tr>\n",
       "      <th>1257</th>\n",
       "      <td>1257</td>\n",
       "      <td>AAPL</td>\n",
       "      <td>2020-05-22 00:00:00+00:00</td>\n",
       "      <td>318.890</td>\n",
       "      <td>319.230</td>\n",
       "      <td>315.3500</td>\n",
       "      <td>315.77</td>\n",
       "      <td>20450754</td>\n",
       "      <td>318.890000</td>\n",
       "      <td>319.230000</td>\n",
       "      <td>315.350000</td>\n",
       "      <td>315.770000</td>\n",
       "      <td>20450754</td>\n",
       "      <td>0.0</td>\n",
       "      <td>1.0</td>\n",
       "    </tr>\n",
       "  </tbody>\n",
       "</table>\n",
       "<p>1258 rows × 15 columns</p>\n",
       "</div>"
      ],
      "text/plain": [
       "      Unnamed: 0 symbol                       date    close     high  \\\n",
       "0              0   AAPL  2015-05-27 00:00:00+00:00  132.045  132.260   \n",
       "1              1   AAPL  2015-05-28 00:00:00+00:00  131.780  131.950   \n",
       "2              2   AAPL  2015-05-29 00:00:00+00:00  130.280  131.450   \n",
       "3              3   AAPL  2015-06-01 00:00:00+00:00  130.535  131.390   \n",
       "4              4   AAPL  2015-06-02 00:00:00+00:00  129.960  130.655   \n",
       "...          ...    ...                        ...      ...      ...   \n",
       "1253        1253   AAPL  2020-05-18 00:00:00+00:00  314.960  316.500   \n",
       "1254        1254   AAPL  2020-05-19 00:00:00+00:00  313.140  318.520   \n",
       "1255        1255   AAPL  2020-05-20 00:00:00+00:00  319.230  319.520   \n",
       "1256        1256   AAPL  2020-05-21 00:00:00+00:00  316.850  320.890   \n",
       "1257        1257   AAPL  2020-05-22 00:00:00+00:00  318.890  319.230   \n",
       "\n",
       "           low    open    volume    adjClose     adjHigh      adjLow  \\\n",
       "0     130.0500  130.34  45833246  121.682558  121.880685  119.844118   \n",
       "1     131.1000  131.86  30733309  121.438354  121.595013  120.811718   \n",
       "2     129.9000  131.23  50884452  120.056069  121.134251  119.705890   \n",
       "3     130.0500  131.20  32112797  120.291057  121.078960  119.844118   \n",
       "4     129.3200  129.86  33667627  119.761181  120.401640  119.171406   \n",
       "...        ...     ...       ...         ...         ...         ...   \n",
       "1253  310.3241  313.17  33843125  314.960000  316.500000  310.324100   \n",
       "1254  313.0100  315.03  25432385  313.140000  318.520000  313.010000   \n",
       "1255  316.2000  316.68  27876215  319.230000  319.520000  316.200000   \n",
       "1256  315.8700  318.66  25672211  316.850000  320.890000  315.870000   \n",
       "1257  315.3500  315.77  20450754  318.890000  319.230000  315.350000   \n",
       "\n",
       "         adjOpen  adjVolume  divCash  splitFactor  \n",
       "0     120.111360   45833246      0.0          1.0  \n",
       "1     121.512076   30733309      0.0          1.0  \n",
       "2     120.931516   50884452      0.0          1.0  \n",
       "3     120.903870   32112797      0.0          1.0  \n",
       "4     119.669029   33667627      0.0          1.0  \n",
       "...          ...        ...      ...          ...  \n",
       "1253  313.170000   33843125      0.0          1.0  \n",
       "1254  315.030000   25432385      0.0          1.0  \n",
       "1255  316.680000   27876215      0.0          1.0  \n",
       "1256  318.660000   25672211      0.0          1.0  \n",
       "1257  315.770000   20450754      0.0          1.0  \n",
       "\n",
       "[1258 rows x 15 columns]"
      ]
     },
     "execution_count": 2,
     "metadata": {},
     "output_type": "execute_result"
    }
   ],
   "source": [
    "df = pd.read_csv('C:/Users/deshm/Desktop/dataml/AAPL.csv')\n",
    "df"
   ]
  },
  {
   "cell_type": "code",
   "execution_count": 3,
   "id": "e4aa6fd9",
   "metadata": {},
   "outputs": [],
   "source": [
    "\n",
    "df1=df.reset_index()['close']"
   ]
  },
  {
   "cell_type": "code",
   "execution_count": 4,
   "id": "dc45296f",
   "metadata": {},
   "outputs": [
    {
     "data": {
      "text/plain": [
       "0       132.045\n",
       "1       131.780\n",
       "2       130.280\n",
       "3       130.535\n",
       "4       129.960\n",
       "         ...   \n",
       "1253    314.960\n",
       "1254    313.140\n",
       "1255    319.230\n",
       "1256    316.850\n",
       "1257    318.890\n",
       "Name: close, Length: 1258, dtype: float64"
      ]
     },
     "execution_count": 4,
     "metadata": {},
     "output_type": "execute_result"
    }
   ],
   "source": [
    "df1"
   ]
  },
  {
   "cell_type": "code",
   "execution_count": 5,
   "id": "63b78dc0",
   "metadata": {},
   "outputs": [
    {
     "data": {
      "text/plain": [
       "[<matplotlib.lines.Line2D at 0x276221ca3a0>]"
      ]
     },
     "execution_count": 5,
     "metadata": {},
     "output_type": "execute_result"
    },
    {
     "data": {
      "image/png": "[encoded data removed]",
      "text/plain": [
       "<Figure size 432x288 with 1 Axes>"
      ]
     },
     "metadata": {
      "needs_background": "light"
     },
     "output_type": "display_data"
    }
   ],
   "source": [
    "\n",
    "import matplotlib.pyplot as plt\n",
    "\n",
    "plt.plot(df1)"
   ]
  },
  {
   "cell_type": "code",
   "execution_count": 6,
   "id": "42b05b6d",
   "metadata": {},
   "outputs": [],
   "source": [
    "\n",
    "### LSTM are sensitive to the scale of the data. so we apply MinMax scaler"
   ]
  },
  {
   "cell_type": "code",
   "execution_count": 7,
   "id": "1329c14f",
   "metadata": {},
   "outputs": [],
   "source": [
    "import numpy as np"
   ]
  },
  {
   "cell_type": "markdown",
   "id": "e82c7947",
   "metadata": {},
   "source": [
    "# Feature Scaling"
   ]
  },
  {
   "cell_type": "code",
   "execution_count": 8,
   "id": "735d1033",
   "metadata": {},
   "outputs": [],
   "source": [
    "from sklearn.preprocessing import MinMaxScaler\n",
    "scaler=MinMaxScaler(feature_range=(0,1))\n",
    "df1=scaler.fit_transform(np.array(df1).reshape(-1,1))"
   ]
  },
  {
   "cell_type": "code",
   "execution_count": 9,
   "id": "af3f7873",
   "metadata": {},
   "outputs": [
    {
     "name": "stdout",
     "output_type": "stream",
     "text": [
      "[[0.17607447]\n",
      " [0.17495567]\n",
      " [0.16862282]\n",
      " ...\n",
      " [0.96635143]\n",
      " [0.9563033 ]\n",
      " [0.96491598]]\n"
     ]
    }
   ],
   "source": [
    "\n",
    "print(df1)"
   ]
  },
  {
   "cell_type": "markdown",
   "id": "db8aac12",
   "metadata": {},
   "source": [
    "# Time Series Split"
   ]
  },
  {
   "cell_type": "code",
   "execution_count": 10,
   "id": "c72e8a84",
   "metadata": {},
   "outputs": [],
   "source": [
    "\n",
    "training_size=int(len(df1)*0.65)\n",
    "test_size=len(df1)-training_size\n",
    "train_data,test_data=df1[0:training_size,:],df1[training_size:len(df1),:1]"
   ]
  },
  {
   "cell_type": "code",
   "execution_count": 11,
   "id": "91ac9dd1",
   "metadata": {},
   "outputs": [
    {
     "data": {
      "text/plain": [
       "(817, 441)"
      ]
     },
     "execution_count": 11,
     "metadata": {},
     "output_type": "execute_result"
    }
   ],
   "source": [
    "\n",
    "training_size,test_size"
   ]
  },
  {
   "cell_type": "code",
   "execution_count": 12,
   "id": "22d1b7f7",
   "metadata": {},
   "outputs": [],
   "source": [
    "\n",
    "import numpy\n",
    "\n",
    "def create_dataset(dataset, time_step=1):\n",
    "  dataX, dataY = [], []\n",
    "  for i in range(len(dataset)-time_step-1):\n",
    "    a = dataset[i:(i+time_step), 0]  \n",
    "    dataX.append(a)\n",
    "    dataY.append(dataset[i + time_step, 0])\n",
    "  return numpy.array(dataX), numpy.array(dataY)"
   ]
  },
  {
   "cell_type": "code",
   "execution_count": 13,
   "id": "97e526bb",
   "metadata": {},
   "outputs": [],
   "source": [
    "# reshape into X=t,t+1,t+2,t+3 and Y=t+4\n",
    "time_step = 100\n",
    "X_train, y_train = create_dataset(train_data, time_step)\n",
    "X_test, ytest = create_dataset(test_data, time_step)"
   ]
  },
  {
   "cell_type": "code",
   "execution_count": 14,
   "id": "575d2f9c",
   "metadata": {},
   "outputs": [
    {
     "name": "stdout",
     "output_type": "stream",
     "text": [
      "(716, 100)\n",
      "(716,)\n"
     ]
    },
    {
     "data": {
      "text/plain": [
       "(None, None)"
      ]
     },
     "execution_count": 14,
     "metadata": {},
     "output_type": "execute_result"
    }
   ],
   "source": [
    "print(X_train.shape), print(y_train.shape)"
   ]
  },
  {
   "cell_type": "code",
   "execution_count": 15,
   "id": "0e10b30a",
   "metadata": {},
   "outputs": [
    {
     "name": "stdout",
     "output_type": "stream",
     "text": [
      "(340, 100)\n",
      "(340,)\n"
     ]
    },
    {
     "data": {
      "text/plain": [
       "(None, None)"
      ]
     },
     "execution_count": 15,
     "metadata": {},
     "output_type": "execute_result"
    }
   ],
   "source": [
    "\n",
    "print(X_test.shape), print(ytest.shape)"
   ]
  },
  {
   "cell_type": "code",
   "execution_count": 16,
   "id": "e693bec9",
   "metadata": {},
   "outputs": [],
   "source": [
    "\n",
    "X_train =X_train.reshape(X_train.shape[0],X_train.shape[1] , 1)\n",
    "X_test = X_test.reshape(X_test.shape[0],X_test.shape[1] , 1)"
   ]
  },
  {
   "cell_type": "markdown",
   "id": "a86c03fd",
   "metadata": {},
   "source": [
    "# Long Short Term Memory (LSTM)"
   ]
  },
  {
   "cell_type": "code",
   "execution_count": 17,
   "id": "9c775424",
   "metadata": {},
   "outputs": [],
   "source": [
    "\n",
    "### Create the Stacked LSTM model\n",
    "from tensorflow.keras.models import Sequential\n",
    "from tensorflow.keras.layers import Dense\n",
    "from tensorflow.keras.layers import LSTM"
   ]
  },
  {
   "cell_type": "code",
   "execution_count": 18,
   "id": "643c11e1",
   "metadata": {},
   "outputs": [],
   "source": [
    "model=Sequential()\n",
    "model.add(LSTM(50,return_sequences=True,input_shape=(100,1)))\n",
    "model.add(LSTM(50,return_sequences=True))\n",
    "model.add(LSTM(50))\n",
    "model.add(Dense(1))\n",
    "model.compile(loss='mean_squared_error',optimizer='adam')"
   ]
  },
  {
   "cell_type": "code",
   "execution_count": 19,
   "id": "587ab9c1",
   "metadata": {},
   "outputs": [
    {
     "name": "stdout",
     "output_type": "stream",
     "text": [
      "Model: \"sequential\"\n",
      "_________________________________________________________________\n",
      "Layer (type)                 Output Shape              Param #   \n",
      "=================================================================\n",
      "lstm (LSTM)                  (None, 100, 50)           10400     \n",
      "_________________________________________________________________\n",
      "lstm_1 (LSTM)                (None, 100, 50)           20200     \n",
      "_________________________________________________________________\n",
      "lstm_2 (LSTM)                (None, 50)                20200     \n",
      "_________________________________________________________________\n",
      "dense (Dense)                (None, 1)                 51        \n",
      "=================================================================\n",
      "Total params: 50,851\n",
      "Trainable params: 50,851\n",
      "Non-trainable params: 0\n",
      "_________________________________________________________________\n"
     ]
    }
   ],
   "source": [
    "model.summary()"
   ]
  },
  {
   "cell_type": "code",
   "execution_count": 20,
   "id": "359d0f71",
   "metadata": {
    "scrolled": false
   },
   "outputs": [
    {
     "name": "stdout",
     "output_type": "stream",
     "text": [
      "Epoch 1/100\n",
      "12/12 [==============================] - 20s 692ms/step - loss: 0.0145 - val_loss: 0.0620\n",
      "Epoch 2/100\n",
      "12/12 [==============================] - 5s 452ms/step - loss: 0.0029 - val_loss: 0.0048\n",
      "Epoch 3/100\n",
      "12/12 [==============================] - 5s 450ms/step - loss: 9.8662e-04 - val_loss: 0.0050\n",
      "Epoch 4/100\n",
      "12/12 [==============================] - 5s 428ms/step - loss: 9.3255e-04 - val_loss: 0.0040\n",
      "Epoch 5/100\n",
      "12/12 [==============================] - 5s 421ms/step - loss: 7.8108e-04 - val_loss: 0.0041\n",
      "Epoch 6/100\n",
      "12/12 [==============================] - 5s 448ms/step - loss: 7.2089e-04 - val_loss: 0.0045\n",
      "Epoch 7/100\n",
      "12/12 [==============================] - 6s 481ms/step - loss: 6.2178e-04 - val_loss: 0.0051\n",
      "Epoch 8/100\n",
      "12/12 [==============================] - 6s 488ms/step - loss: 5.9153e-04 - val_loss: 0.0046\n",
      "Epoch 9/100\n",
      "12/12 [==============================] - 5s 454ms/step - loss: 5.7509e-04 - val_loss: 0.0040\n",
      "Epoch 10/100\n",
      "12/12 [==============================] - 5s 454ms/step - loss: 5.7632e-04 - val_loss: 0.0040\n",
      "Epoch 11/100\n",
      "12/12 [==============================] - 5s 459ms/step - loss: 5.6303e-04 - val_loss: 0.0036\n",
      "Epoch 12/100\n",
      "12/12 [==============================] - 6s 495ms/step - loss: 5.5376e-04 - val_loss: 0.0043\n",
      "Epoch 13/100\n",
      "12/12 [==============================] - 6s 478ms/step - loss: 5.6166e-04 - val_loss: 0.0053\n",
      "Epoch 14/100\n",
      "12/12 [==============================] - 6s 469ms/step - loss: 6.1722e-04 - val_loss: 0.0034\n",
      "Epoch 15/100\n",
      "12/12 [==============================] - 6s 529ms/step - loss: 5.8575e-04 - val_loss: 0.0030\n",
      "Epoch 16/100\n",
      "12/12 [==============================] - 7s 547ms/step - loss: 5.6850e-04 - val_loss: 0.0030\n",
      "Epoch 17/100\n",
      "12/12 [==============================] - 6s 470ms/step - loss: 5.2022e-04 - val_loss: 0.0031\n",
      "Epoch 18/100\n",
      "12/12 [==============================] - 5s 431ms/step - loss: 5.2098e-04 - val_loss: 0.0032\n",
      "Epoch 19/100\n",
      "12/12 [==============================] - 5s 449ms/step - loss: 5.0892e-04 - val_loss: 0.0029\n",
      "Epoch 20/100\n",
      "12/12 [==============================] - 5s 424ms/step - loss: 5.0804e-04 - val_loss: 0.0028\n",
      "Epoch 21/100\n",
      "12/12 [==============================] - 5s 440ms/step - loss: 5.2217e-04 - val_loss: 0.0037\n",
      "Epoch 22/100\n",
      "12/12 [==============================] - 6s 495ms/step - loss: 5.7406e-04 - val_loss: 0.0047\n",
      "Epoch 23/100\n",
      "12/12 [==============================] - 6s 488ms/step - loss: 5.5272e-04 - val_loss: 0.0025\n",
      "Epoch 24/100\n",
      "12/12 [==============================] - 6s 475ms/step - loss: 4.9606e-04 - val_loss: 0.0025\n",
      "Epoch 25/100\n",
      "12/12 [==============================] - 6s 510ms/step - loss: 5.0360e-04 - val_loss: 0.0024\n",
      "Epoch 26/100\n",
      "12/12 [==============================] - 5s 451ms/step - loss: 5.1141e-04 - val_loss: 0.0030\n",
      "Epoch 27/100\n",
      "12/12 [==============================] - 6s 486ms/step - loss: 4.7312e-04 - val_loss: 0.0022\n",
      "Epoch 28/100\n",
      "12/12 [==============================] - 6s 501ms/step - loss: 4.6370e-04 - val_loss: 0.0022\n",
      "Epoch 29/100\n",
      "12/12 [==============================] - 5s 450ms/step - loss: 4.2465e-04 - val_loss: 0.0021\n",
      "Epoch 30/100\n",
      "12/12 [==============================] - 5s 440ms/step - loss: 4.3293e-04 - val_loss: 0.0023\n",
      "Epoch 31/100\n",
      "12/12 [==============================] - 5s 436ms/step - loss: 4.1841e-04 - val_loss: 0.0020\n",
      "Epoch 32/100\n",
      "12/12 [==============================] - 6s 482ms/step - loss: 4.2217e-04 - val_loss: 0.0019\n",
      "Epoch 33/100\n",
      "12/12 [==============================] - 6s 465ms/step - loss: 3.9941e-04 - val_loss: 0.0025\n",
      "Epoch 34/100\n",
      "12/12 [==============================] - 5s 456ms/step - loss: 4.4009e-04 - val_loss: 0.0018\n",
      "Epoch 35/100\n",
      "12/12 [==============================] - 5s 462ms/step - loss: 4.0340e-04 - val_loss: 0.0017\n",
      "Epoch 36/100\n",
      "12/12 [==============================] - 5s 463ms/step - loss: 4.1596e-04 - val_loss: 0.0017\n",
      "Epoch 37/100\n",
      "12/12 [==============================] - 5s 446ms/step - loss: 3.7650e-04 - val_loss: 0.0016\n",
      "Epoch 38/100\n",
      "12/12 [==============================] - 5s 431ms/step - loss: 3.9126e-04 - val_loss: 0.0019\n",
      "Epoch 39/100\n",
      "12/12 [==============================] - 5s 462ms/step - loss: 3.5465e-04 - val_loss: 0.0015\n",
      "Epoch 40/100\n",
      "12/12 [==============================] - 5s 463ms/step - loss: 3.5268e-04 - val_loss: 0.0016\n",
      "Epoch 41/100\n",
      "12/12 [==============================] - 5s 455ms/step - loss: 3.4580e-04 - val_loss: 0.0015\n",
      "Epoch 42/100\n",
      "12/12 [==============================] - 6s 464ms/step - loss: 3.7333e-04 - val_loss: 0.0014\n",
      "Epoch 43/100\n",
      "12/12 [==============================] - 6s 465ms/step - loss: 3.5310e-04 - val_loss: 0.0015\n",
      "Epoch 44/100\n",
      "12/12 [==============================] - 6s 466ms/step - loss: 3.3482e-04 - val_loss: 0.0032\n",
      "Epoch 45/100\n",
      "12/12 [==============================] - 6s 474ms/step - loss: 3.5439e-04 - val_loss: 0.0014\n",
      "Epoch 46/100\n",
      "12/12 [==============================] - 6s 467ms/step - loss: 3.3814e-04 - val_loss: 0.0018\n",
      "Epoch 47/100\n",
      "12/12 [==============================] - 6s 486ms/step - loss: 3.6676e-04 - val_loss: 0.0020\n",
      "Epoch 48/100\n",
      "12/12 [==============================] - 6s 470ms/step - loss: 3.3686e-04 - val_loss: 0.0015\n",
      "Epoch 49/100\n",
      "12/12 [==============================] - 6s 488ms/step - loss: 3.4835e-04 - val_loss: 0.0020\n",
      "Epoch 50/100\n",
      "12/12 [==============================] - 6s 470ms/step - loss: 3.2204e-04 - val_loss: 0.0016\n",
      "Epoch 51/100\n",
      "12/12 [==============================] - 5s 462ms/step - loss: 3.0317e-04 - val_loss: 0.0016\n",
      "Epoch 52/100\n",
      "12/12 [==============================] - 6s 478ms/step - loss: 3.0475e-04 - val_loss: 0.0016\n",
      "Epoch 53/100\n",
      "12/12 [==============================] - 6s 482ms/step - loss: 2.9722e-04 - val_loss: 0.0033\n",
      "Epoch 54/100\n",
      "12/12 [==============================] - 6s 479ms/step - loss: 3.2169e-04 - val_loss: 0.0014\n",
      "Epoch 55/100\n",
      "12/12 [==============================] - 5s 451ms/step - loss: 3.0267e-04 - val_loss: 0.0021\n",
      "Epoch 56/100\n",
      "12/12 [==============================] - 5s 461ms/step - loss: 3.2090e-04 - val_loss: 0.0022\n",
      "Epoch 57/100\n",
      "12/12 [==============================] - 6s 481ms/step - loss: 3.0994e-04 - val_loss: 0.0013\n",
      "Epoch 58/100\n",
      "12/12 [==============================] - 5s 445ms/step - loss: 3.0250e-04 - val_loss: 0.0028\n",
      "Epoch 59/100\n",
      "12/12 [==============================] - 5s 441ms/step - loss: 2.9458e-04 - val_loss: 0.0013\n",
      "Epoch 60/100\n",
      "12/12 [==============================] - 5s 459ms/step - loss: 2.8731e-04 - val_loss: 0.0021\n",
      "Epoch 61/100\n",
      "12/12 [==============================] - 6s 472ms/step - loss: 2.5540e-04 - val_loss: 0.0013\n",
      "Epoch 62/100\n",
      "12/12 [==============================] - 5s 434ms/step - loss: 2.7777e-04 - val_loss: 0.0014\n",
      "Epoch 63/100\n",
      "12/12 [==============================] - 5s 433ms/step - loss: 2.4826e-04 - val_loss: 0.0018\n",
      "Epoch 64/100\n",
      "12/12 [==============================] - 5s 424ms/step - loss: 2.6460e-04 - val_loss: 0.0013\n",
      "Epoch 65/100\n",
      "12/12 [==============================] - 5s 426ms/step - loss: 2.4651e-04 - val_loss: 0.0015\n",
      "Epoch 66/100\n",
      "12/12 [==============================] - 5s 439ms/step - loss: 2.2933e-04 - val_loss: 0.0012\n",
      "Epoch 67/100\n",
      "12/12 [==============================] - 5s 448ms/step - loss: 2.3669e-04 - val_loss: 0.0012\n",
      "Epoch 68/100\n",
      "12/12 [==============================] - 6s 467ms/step - loss: 2.2169e-04 - val_loss: 0.0018\n",
      "Epoch 69/100\n",
      "12/12 [==============================] - 5s 449ms/step - loss: 2.1287e-04 - val_loss: 0.0011\n",
      "Epoch 70/100\n",
      "12/12 [==============================] - 5s 456ms/step - loss: 2.0311e-04 - val_loss: 0.0021\n",
      "Epoch 71/100\n",
      "12/12 [==============================] - 5s 446ms/step - loss: 2.3218e-04 - val_loss: 0.0011\n",
      "Epoch 72/100\n",
      "12/12 [==============================] - 5s 445ms/step - loss: 2.0988e-04 - val_loss: 0.0011\n",
      "Epoch 73/100\n",
      "12/12 [==============================] - 5s 435ms/step - loss: 2.4153e-04 - val_loss: 0.0020\n",
      "Epoch 74/100\n",
      "12/12 [==============================] - 5s 439ms/step - loss: 2.1163e-04 - val_loss: 0.0010\n",
      "Epoch 75/100\n",
      "12/12 [==============================] - 5s 437ms/step - loss: 1.8952e-04 - val_loss: 0.0021\n",
      "Epoch 76/100\n",
      "12/12 [==============================] - 5s 437ms/step - loss: 2.1049e-04 - val_loss: 0.0010\n",
      "Epoch 77/100\n",
      "12/12 [==============================] - 5s 443ms/step - loss: 1.7821e-04 - val_loss: 0.0014\n",
      "Epoch 78/100\n",
      "12/12 [==============================] - 5s 445ms/step - loss: 1.8123e-04 - val_loss: 0.0014\n",
      "Epoch 79/100\n",
      "12/12 [==============================] - 5s 460ms/step - loss: 1.7106e-04 - val_loss: 9.5762e-04\n",
      "Epoch 80/100\n",
      "12/12 [==============================] - 5s 444ms/step - loss: 1.7448e-04 - val_loss: 9.4308e-04\n",
      "Epoch 81/100\n",
      "12/12 [==============================] - 5s 446ms/step - loss: 1.6519e-04 - val_loss: 0.0011\n",
      "Epoch 82/100\n",
      "12/12 [==============================] - 5s 446ms/step - loss: 1.5913e-04 - val_loss: 9.1479e-04\n",
      "Epoch 83/100\n",
      "12/12 [==============================] - 5s 457ms/step - loss: 1.5882e-04 - val_loss: 0.0013\n",
      "Epoch 84/100\n",
      "12/12 [==============================] - 5s 450ms/step - loss: 1.7916e-04 - val_loss: 0.0013\n",
      "Epoch 85/100\n",
      "12/12 [==============================] - 5s 464ms/step - loss: 2.1273e-04 - val_loss: 8.8888e-04\n",
      "Epoch 86/100\n",
      "12/12 [==============================] - 5s 451ms/step - loss: 1.6927e-04 - val_loss: 8.7439e-04\n",
      "Epoch 87/100\n",
      "12/12 [==============================] - 5s 448ms/step - loss: 1.5554e-04 - val_loss: 0.0013\n",
      "Epoch 88/100\n",
      "12/12 [==============================] - 5s 454ms/step - loss: 1.8128e-04 - val_loss: 0.0010\n",
      "Epoch 89/100\n",
      "12/12 [==============================] - 5s 455ms/step - loss: 1.6294e-04 - val_loss: 8.9267e-04\n",
      "Epoch 90/100\n",
      "12/12 [==============================] - 5s 458ms/step - loss: 1.5524e-04 - val_loss: 8.2208e-04\n",
      "Epoch 91/100\n",
      "12/12 [==============================] - 5s 445ms/step - loss: 1.6549e-04 - val_loss: 8.2878e-04\n",
      "Epoch 92/100\n",
      "12/12 [==============================] - 5s 450ms/step - loss: 1.4692e-04 - val_loss: 8.6645e-04\n",
      "Epoch 93/100\n",
      "12/12 [==============================] - 5s 442ms/step - loss: 1.4686e-04 - val_loss: 8.7583e-04\n",
      "Epoch 94/100\n",
      "12/12 [==============================] - 5s 447ms/step - loss: 1.3809e-04 - val_loss: 7.4997e-04\n",
      "Epoch 95/100\n",
      "12/12 [==============================] - 5s 443ms/step - loss: 1.4267e-04 - val_loss: 8.4067e-04\n",
      "Epoch 96/100\n",
      "12/12 [==============================] - 5s 434ms/step - loss: 1.3529e-04 - val_loss: 8.0373e-04\n",
      "Epoch 97/100\n",
      "12/12 [==============================] - 5s 448ms/step - loss: 1.4258e-04 - val_loss: 7.4915e-04\n",
      "Epoch 98/100\n",
      "12/12 [==============================] - 5s 434ms/step - loss: 1.3618e-04 - val_loss: 8.4757e-04\n",
      "Epoch 99/100\n",
      "12/12 [==============================] - 5s 446ms/step - loss: 1.3303e-04 - val_loss: 0.0012\n",
      "Epoch 100/100\n",
      "12/12 [==============================] - 5s 446ms/step - loss: 1.4832e-04 - val_loss: 7.7570e-04\n"
     ]
    },
    {
     "data": {
      "text/plain": [
       "<keras.callbacks.History at 0x27631808610>"
      ]
     },
     "execution_count": 20,
     "metadata": {},
     "output_type": "execute_result"
    }
   ],
   "source": [
    "model.fit(X_train,y_train,validation_data=(X_test,ytest),epochs=100,batch_size=64,verbose=1)"
   ]
  },
  {
   "cell_type": "code",
   "execution_count": 21,
   "id": "160a68f5",
   "metadata": {},
   "outputs": [],
   "source": [
    "\n",
    "import tensorflow as tf"
   ]
  },
  {
   "cell_type": "code",
   "execution_count": 22,
   "id": "7c5f8c4a",
   "metadata": {},
   "outputs": [],
   "source": [
    "\n",
    "train_predict=model.predict(X_train)\n",
    "test_predict=model.predict(X_test)\n"
   ]
  },
  {
   "cell_type": "code",
   "execution_count": 23,
   "id": "bf8f32c0",
   "metadata": {},
   "outputs": [],
   "source": [
    "##Transformback\n",
    "train_predict=scaler.inverse_transform(train_predict)\n",
    "test_predict=scaler.inverse_transform(test_predict)"
   ]
  },
  {
   "cell_type": "code",
   "execution_count": 24,
   "id": "8d78e536",
   "metadata": {},
   "outputs": [
    {
     "data": {
      "text/plain": [
       "142.06273405847966"
      ]
     },
     "execution_count": 24,
     "metadata": {},
     "output_type": "execute_result"
    }
   ],
   "source": [
    "\n",
    "\n",
    "import math\n",
    "from sklearn.metrics import mean_squared_error\n",
    "math.sqrt(mean_squared_error(y_train,train_predict))"
   ]
  },
  {
   "cell_type": "code",
   "execution_count": 25,
   "id": "f25e3a58",
   "metadata": {},
   "outputs": [
    {
     "data": {
      "text/plain": [
       "237.26131289879032"
      ]
     },
     "execution_count": 25,
     "metadata": {},
     "output_type": "execute_result"
    }
   ],
   "source": [
    "### RMSE\n",
    "math.sqrt(mean_squared_error(ytest,test_predict))\n"
   ]
  },
  {
   "cell_type": "code",
   "execution_count": 26,
   "id": "d891a9b5",
   "metadata": {
    "scrolled": false
   },
   "outputs": [
    {
     "data": {
      "image/png": "[encoded data removed]",
      "text/plain": [
       "<Figure size 640x480 with 1 Axes>"
      ]
     },
     "metadata": {
      "needs_background": "light"
     },
     "output_type": "display_data"
    }
   ],
   "source": [
    "\n",
    "look_back=100\n",
    "trainPredictPlot = numpy.empty_like(df1)\n",
    "trainPredictPlot[:, :] = np.nan\n",
    "trainPredictPlot[look_back:len(train_predict)+look_back, :] = train_predict\n",
    "\n",
    "\n",
    "testPredictPlot = numpy.empty_like(df1)\n",
    "testPredictPlot[:, :] = numpy.nan\n",
    "testPredictPlot[len(train_predict)+(look_back*2)+1:len(df1)-1, :] = test_predict\n",
    "\n",
    "from matplotlib.pyplot import figure\n",
    "\n",
    "figure(figsize=(8, 6), dpi=80)\n",
    "# plot baseline and predictions\n",
    "plt.plot(scaler.inverse_transform(df1))\n",
    "plt.plot(trainPredictPlot)\n",
    "plt.plot(testPredictPlot)\n",
    "plt.show()"
   ]
  },
  {
   "cell_type": "code",
   "execution_count": null,
   "id": "6df66a86",
   "metadata": {},
   "outputs": [],
   "source": []
  },
  {
   "cell_type": "markdown",
   "id": "9da934ef",
   "metadata": {},
   "source": [
    "# Linear Regression"
   ]
  },
  {
   "cell_type": "code",
   "execution_count": 27,
   "id": "01c2e64b",
   "metadata": {},
   "outputs": [
    {
     "data": {
      "text/plain": [
       "Index(['Unnamed: 0', 'symbol', 'date', 'close', 'high', 'low', 'open',\n",
       "       'volume', 'adjClose', 'adjHigh', 'adjLow', 'adjOpen', 'adjVolume',\n",
       "       'divCash', 'splitFactor'],\n",
       "      dtype='object')"
      ]
     },
     "execution_count": 27,
     "metadata": {},
     "output_type": "execute_result"
    }
   ],
   "source": [
    "df.columns\n"
   ]
  },
  {
   "cell_type": "code",
   "execution_count": 28,
   "id": "2ce7852c",
   "metadata": {},
   "outputs": [
    {
     "data": {
      "text/html": [
       "<div>\n",
       "<style scoped>\n",
       "    .dataframe tbody tr th:only-of-type {\n",
       "        vertical-align: middle;\n",
       "    }\n",
       "\n",
       "    .dataframe tbody tr th {\n",
       "        vertical-align: top;\n",
       "    }\n",
       "\n",
       "    .dataframe thead th {\n",
       "        text-align: right;\n",
       "    }\n",
       "</style>\n",
       "<table border=\"1\" class=\"dataframe\">\n",
       "  <thead>\n",
       "    <tr style=\"text-align: right;\">\n",
       "      <th></th>\n",
       "      <th>Unnamed: 0</th>\n",
       "      <th>symbol</th>\n",
       "      <th>date</th>\n",
       "      <th>close</th>\n",
       "      <th>high</th>\n",
       "      <th>low</th>\n",
       "      <th>open</th>\n",
       "      <th>volume</th>\n",
       "      <th>adjClose</th>\n",
       "      <th>adjHigh</th>\n",
       "      <th>adjLow</th>\n",
       "      <th>adjOpen</th>\n",
       "      <th>adjVolume</th>\n",
       "      <th>divCash</th>\n",
       "      <th>splitFactor</th>\n",
       "    </tr>\n",
       "  </thead>\n",
       "  <tbody>\n",
       "    <tr>\n",
       "      <th>0</th>\n",
       "      <td>0</td>\n",
       "      <td>AAPL</td>\n",
       "      <td>2015-05-27 00:00:00+00:00</td>\n",
       "      <td>132.045</td>\n",
       "      <td>132.260</td>\n",
       "      <td>130.05</td>\n",
       "      <td>130.34</td>\n",
       "      <td>45833246</td>\n",
       "      <td>121.682558</td>\n",
       "      <td>121.880685</td>\n",
       "      <td>119.844118</td>\n",
       "      <td>120.111360</td>\n",
       "      <td>45833246</td>\n",
       "      <td>0.0</td>\n",
       "      <td>1.0</td>\n",
       "    </tr>\n",
       "    <tr>\n",
       "      <th>1</th>\n",
       "      <td>1</td>\n",
       "      <td>AAPL</td>\n",
       "      <td>2015-05-28 00:00:00+00:00</td>\n",
       "      <td>131.780</td>\n",
       "      <td>131.950</td>\n",
       "      <td>131.10</td>\n",
       "      <td>131.86</td>\n",
       "      <td>30733309</td>\n",
       "      <td>121.438354</td>\n",
       "      <td>121.595013</td>\n",
       "      <td>120.811718</td>\n",
       "      <td>121.512076</td>\n",
       "      <td>30733309</td>\n",
       "      <td>0.0</td>\n",
       "      <td>1.0</td>\n",
       "    </tr>\n",
       "    <tr>\n",
       "      <th>2</th>\n",
       "      <td>2</td>\n",
       "      <td>AAPL</td>\n",
       "      <td>2015-05-29 00:00:00+00:00</td>\n",
       "      <td>130.280</td>\n",
       "      <td>131.450</td>\n",
       "      <td>129.90</td>\n",
       "      <td>131.23</td>\n",
       "      <td>50884452</td>\n",
       "      <td>120.056069</td>\n",
       "      <td>121.134251</td>\n",
       "      <td>119.705890</td>\n",
       "      <td>120.931516</td>\n",
       "      <td>50884452</td>\n",
       "      <td>0.0</td>\n",
       "      <td>1.0</td>\n",
       "    </tr>\n",
       "    <tr>\n",
       "      <th>3</th>\n",
       "      <td>3</td>\n",
       "      <td>AAPL</td>\n",
       "      <td>2015-06-01 00:00:00+00:00</td>\n",
       "      <td>130.535</td>\n",
       "      <td>131.390</td>\n",
       "      <td>130.05</td>\n",
       "      <td>131.20</td>\n",
       "      <td>32112797</td>\n",
       "      <td>120.291057</td>\n",
       "      <td>121.078960</td>\n",
       "      <td>119.844118</td>\n",
       "      <td>120.903870</td>\n",
       "      <td>32112797</td>\n",
       "      <td>0.0</td>\n",
       "      <td>1.0</td>\n",
       "    </tr>\n",
       "    <tr>\n",
       "      <th>4</th>\n",
       "      <td>4</td>\n",
       "      <td>AAPL</td>\n",
       "      <td>2015-06-02 00:00:00+00:00</td>\n",
       "      <td>129.960</td>\n",
       "      <td>130.655</td>\n",
       "      <td>129.32</td>\n",
       "      <td>129.86</td>\n",
       "      <td>33667627</td>\n",
       "      <td>119.761181</td>\n",
       "      <td>120.401640</td>\n",
       "      <td>119.171406</td>\n",
       "      <td>119.669029</td>\n",
       "      <td>33667627</td>\n",
       "      <td>0.0</td>\n",
       "      <td>1.0</td>\n",
       "    </tr>\n",
       "  </tbody>\n",
       "</table>\n",
       "</div>"
      ],
      "text/plain": [
       "   Unnamed: 0 symbol                       date    close     high     low  \\\n",
       "0           0   AAPL  2015-05-27 00:00:00+00:00  132.045  132.260  130.05   \n",
       "1           1   AAPL  2015-05-28 00:00:00+00:00  131.780  131.950  131.10   \n",
       "2           2   AAPL  2015-05-29 00:00:00+00:00  130.280  131.450  129.90   \n",
       "3           3   AAPL  2015-06-01 00:00:00+00:00  130.535  131.390  130.05   \n",
       "4           4   AAPL  2015-06-02 00:00:00+00:00  129.960  130.655  129.32   \n",
       "\n",
       "     open    volume    adjClose     adjHigh      adjLow     adjOpen  \\\n",
       "0  130.34  45833246  121.682558  121.880685  119.844118  120.111360   \n",
       "1  131.86  30733309  121.438354  121.595013  120.811718  121.512076   \n",
       "2  131.23  50884452  120.056069  121.134251  119.705890  120.931516   \n",
       "3  131.20  32112797  120.291057  121.078960  119.844118  120.903870   \n",
       "4  129.86  33667627  119.761181  120.401640  119.171406  119.669029   \n",
       "\n",
       "   adjVolume  divCash  splitFactor  \n",
       "0   45833246      0.0          1.0  \n",
       "1   30733309      0.0          1.0  \n",
       "2   50884452      0.0          1.0  \n",
       "3   32112797      0.0          1.0  \n",
       "4   33667627      0.0          1.0  "
      ]
     },
     "execution_count": 28,
     "metadata": {},
     "output_type": "execute_result"
    }
   ],
   "source": [
    "df.head()"
   ]
  },
  {
   "cell_type": "code",
   "execution_count": 29,
   "id": "47d6422a",
   "metadata": {},
   "outputs": [
    {
     "data": {
      "text/plain": [
       "date\n",
       "2015-05-27 00:00:00+00:00   2015-05-27 00:00:00+00:00\n",
       "2015-05-28 00:00:00+00:00   2015-05-28 00:00:00+00:00\n",
       "2015-05-29 00:00:00+00:00   2015-05-29 00:00:00+00:00\n",
       "2015-06-01 00:00:00+00:00   2015-06-01 00:00:00+00:00\n",
       "2015-06-02 00:00:00+00:00   2015-06-02 00:00:00+00:00\n",
       "                                       ...           \n",
       "2020-05-18 00:00:00+00:00   2020-05-18 00:00:00+00:00\n",
       "2020-05-19 00:00:00+00:00   2020-05-19 00:00:00+00:00\n",
       "2020-05-20 00:00:00+00:00   2020-05-20 00:00:00+00:00\n",
       "2020-05-21 00:00:00+00:00   2020-05-21 00:00:00+00:00\n",
       "2020-05-22 00:00:00+00:00   2020-05-22 00:00:00+00:00\n",
       "Name: date, Length: 1258, dtype: datetime64[ns, UTC]"
      ]
     },
     "execution_count": 29,
     "metadata": {},
     "output_type": "execute_result"
    }
   ],
   "source": [
    "df['date'] = pd.to_datetime(df.date,format='%Y-%m-%d')\n",
    "df.index = df['date']\n",
    "df['date']"
   ]
  },
  {
   "cell_type": "code",
   "execution_count": 30,
   "id": "9ce42764",
   "metadata": {},
   "outputs": [
    {
     "data": {
      "text/plain": [
       "(1258, 15)"
      ]
     },
     "execution_count": 30,
     "metadata": {},
     "output_type": "execute_result"
    }
   ],
   "source": [
    "df.shape"
   ]
  },
  {
   "cell_type": "code",
   "execution_count": 31,
   "id": "f7379bcf",
   "metadata": {},
   "outputs": [
    {
     "data": {
      "text/plain": [
       "Index(['Unnamed: 0', 'symbol', 'date', 'close', 'high', 'low', 'open',\n",
       "       'volume', 'adjClose', 'adjHigh', 'adjLow', 'adjOpen', 'adjVolume',\n",
       "       'divCash', 'splitFactor'],\n",
       "      dtype='object')"
      ]
     },
     "execution_count": 31,
     "metadata": {},
     "output_type": "execute_result"
    }
   ],
   "source": [
    "df.columns\n"
   ]
  },
  {
   "cell_type": "code",
   "execution_count": 32,
   "id": "dbef6cc2",
   "metadata": {},
   "outputs": [
    {
     "data": {
      "text/html": [
       "<div>\n",
       "<style scoped>\n",
       "    .dataframe tbody tr th:only-of-type {\n",
       "        vertical-align: middle;\n",
       "    }\n",
       "\n",
       "    .dataframe tbody tr th {\n",
       "        vertical-align: top;\n",
       "    }\n",
       "\n",
       "    .dataframe thead th {\n",
       "        text-align: right;\n",
       "    }\n",
       "</style>\n",
       "<table border=\"1\" class=\"dataframe\">\n",
       "  <thead>\n",
       "    <tr style=\"text-align: right;\">\n",
       "      <th></th>\n",
       "      <th>date</th>\n",
       "      <th>close</th>\n",
       "      <th>high</th>\n",
       "      <th>low</th>\n",
       "      <th>open</th>\n",
       "      <th>volume</th>\n",
       "    </tr>\n",
       "    <tr>\n",
       "      <th>date</th>\n",
       "      <th></th>\n",
       "      <th></th>\n",
       "      <th></th>\n",
       "      <th></th>\n",
       "      <th></th>\n",
       "      <th></th>\n",
       "    </tr>\n",
       "  </thead>\n",
       "  <tbody>\n",
       "    <tr>\n",
       "      <th>2015-05-27 00:00:00+00:00</th>\n",
       "      <td>2015-05-27 00:00:00+00:00</td>\n",
       "      <td>132.045</td>\n",
       "      <td>132.260</td>\n",
       "      <td>130.05</td>\n",
       "      <td>130.34</td>\n",
       "      <td>45833246</td>\n",
       "    </tr>\n",
       "    <tr>\n",
       "      <th>2015-05-28 00:00:00+00:00</th>\n",
       "      <td>2015-05-28 00:00:00+00:00</td>\n",
       "      <td>131.780</td>\n",
       "      <td>131.950</td>\n",
       "      <td>131.10</td>\n",
       "      <td>131.86</td>\n",
       "      <td>30733309</td>\n",
       "    </tr>\n",
       "    <tr>\n",
       "      <th>2015-05-29 00:00:00+00:00</th>\n",
       "      <td>2015-05-29 00:00:00+00:00</td>\n",
       "      <td>130.280</td>\n",
       "      <td>131.450</td>\n",
       "      <td>129.90</td>\n",
       "      <td>131.23</td>\n",
       "      <td>50884452</td>\n",
       "    </tr>\n",
       "    <tr>\n",
       "      <th>2015-06-01 00:00:00+00:00</th>\n",
       "      <td>2015-06-01 00:00:00+00:00</td>\n",
       "      <td>130.535</td>\n",
       "      <td>131.390</td>\n",
       "      <td>130.05</td>\n",
       "      <td>131.20</td>\n",
       "      <td>32112797</td>\n",
       "    </tr>\n",
       "    <tr>\n",
       "      <th>2015-06-02 00:00:00+00:00</th>\n",
       "      <td>2015-06-02 00:00:00+00:00</td>\n",
       "      <td>129.960</td>\n",
       "      <td>130.655</td>\n",
       "      <td>129.32</td>\n",
       "      <td>129.86</td>\n",
       "      <td>33667627</td>\n",
       "    </tr>\n",
       "  </tbody>\n",
       "</table>\n",
       "</div>"
      ],
      "text/plain": [
       "                                               date    close     high     low  \\\n",
       "date                                                                            \n",
       "2015-05-27 00:00:00+00:00 2015-05-27 00:00:00+00:00  132.045  132.260  130.05   \n",
       "2015-05-28 00:00:00+00:00 2015-05-28 00:00:00+00:00  131.780  131.950  131.10   \n",
       "2015-05-29 00:00:00+00:00 2015-05-29 00:00:00+00:00  130.280  131.450  129.90   \n",
       "2015-06-01 00:00:00+00:00 2015-06-01 00:00:00+00:00  130.535  131.390  130.05   \n",
       "2015-06-02 00:00:00+00:00 2015-06-02 00:00:00+00:00  129.960  130.655  129.32   \n",
       "\n",
       "                             open    volume  \n",
       "date                                         \n",
       "2015-05-27 00:00:00+00:00  130.34  45833246  \n",
       "2015-05-28 00:00:00+00:00  131.86  30733309  \n",
       "2015-05-29 00:00:00+00:00  131.23  50884452  \n",
       "2015-06-01 00:00:00+00:00  131.20  32112797  \n",
       "2015-06-02 00:00:00+00:00  129.86  33667627  "
      ]
     },
     "execution_count": 32,
     "metadata": {},
     "output_type": "execute_result"
    }
   ],
   "source": [
    "\n",
    "df.drop(['adjClose', 'adjHigh', 'adjLow', 'adjOpen', 'adjVolume',\n",
    "       'divCash', 'splitFactor','Unnamed: 0','symbol'], axis = 1,inplace=True)\n",
    "df.head()"
   ]
  },
  {
   "cell_type": "code",
   "execution_count": 33,
   "id": "70bf3923",
   "metadata": {},
   "outputs": [
    {
     "data": {
      "text/html": [
       "<div>\n",
       "<style scoped>\n",
       "    .dataframe tbody tr th:only-of-type {\n",
       "        vertical-align: middle;\n",
       "    }\n",
       "\n",
       "    .dataframe tbody tr th {\n",
       "        vertical-align: top;\n",
       "    }\n",
       "\n",
       "    .dataframe thead th {\n",
       "        text-align: right;\n",
       "    }\n",
       "</style>\n",
       "<table border=\"1\" class=\"dataframe\">\n",
       "  <thead>\n",
       "    <tr style=\"text-align: right;\">\n",
       "      <th></th>\n",
       "      <th>date</th>\n",
       "      <th>close</th>\n",
       "      <th>high</th>\n",
       "      <th>low</th>\n",
       "      <th>open</th>\n",
       "      <th>volume</th>\n",
       "    </tr>\n",
       "    <tr>\n",
       "      <th>date</th>\n",
       "      <th></th>\n",
       "      <th></th>\n",
       "      <th></th>\n",
       "      <th></th>\n",
       "      <th></th>\n",
       "      <th></th>\n",
       "    </tr>\n",
       "  </thead>\n",
       "  <tbody>\n",
       "    <tr>\n",
       "      <th>2015-05-27 00:00:00+00:00</th>\n",
       "      <td>2015-05-27 00:00:00+00:00</td>\n",
       "      <td>132.045</td>\n",
       "      <td>132.260</td>\n",
       "      <td>130.05</td>\n",
       "      <td>130.34</td>\n",
       "      <td>45833246</td>\n",
       "    </tr>\n",
       "    <tr>\n",
       "      <th>2015-05-28 00:00:00+00:00</th>\n",
       "      <td>2015-05-28 00:00:00+00:00</td>\n",
       "      <td>131.780</td>\n",
       "      <td>131.950</td>\n",
       "      <td>131.10</td>\n",
       "      <td>131.86</td>\n",
       "      <td>30733309</td>\n",
       "    </tr>\n",
       "    <tr>\n",
       "      <th>2015-05-29 00:00:00+00:00</th>\n",
       "      <td>2015-05-29 00:00:00+00:00</td>\n",
       "      <td>130.280</td>\n",
       "      <td>131.450</td>\n",
       "      <td>129.90</td>\n",
       "      <td>131.23</td>\n",
       "      <td>50884452</td>\n",
       "    </tr>\n",
       "    <tr>\n",
       "      <th>2015-06-01 00:00:00+00:00</th>\n",
       "      <td>2015-06-01 00:00:00+00:00</td>\n",
       "      <td>130.535</td>\n",
       "      <td>131.390</td>\n",
       "      <td>130.05</td>\n",
       "      <td>131.20</td>\n",
       "      <td>32112797</td>\n",
       "    </tr>\n",
       "    <tr>\n",
       "      <th>2015-06-02 00:00:00+00:00</th>\n",
       "      <td>2015-06-02 00:00:00+00:00</td>\n",
       "      <td>129.960</td>\n",
       "      <td>130.655</td>\n",
       "      <td>129.32</td>\n",
       "      <td>129.86</td>\n",
       "      <td>33667627</td>\n",
       "    </tr>\n",
       "  </tbody>\n",
       "</table>\n",
       "</div>"
      ],
      "text/plain": [
       "                                               date    close     high     low  \\\n",
       "date                                                                            \n",
       "2015-05-27 00:00:00+00:00 2015-05-27 00:00:00+00:00  132.045  132.260  130.05   \n",
       "2015-05-28 00:00:00+00:00 2015-05-28 00:00:00+00:00  131.780  131.950  131.10   \n",
       "2015-05-29 00:00:00+00:00 2015-05-29 00:00:00+00:00  130.280  131.450  129.90   \n",
       "2015-06-01 00:00:00+00:00 2015-06-01 00:00:00+00:00  130.535  131.390  130.05   \n",
       "2015-06-02 00:00:00+00:00 2015-06-02 00:00:00+00:00  129.960  130.655  129.32   \n",
       "\n",
       "                             open    volume  \n",
       "date                                         \n",
       "2015-05-27 00:00:00+00:00  130.34  45833246  \n",
       "2015-05-28 00:00:00+00:00  131.86  30733309  \n",
       "2015-05-29 00:00:00+00:00  131.23  50884452  \n",
       "2015-06-01 00:00:00+00:00  131.20  32112797  \n",
       "2015-06-02 00:00:00+00:00  129.86  33667627  "
      ]
     },
     "execution_count": 33,
     "metadata": {},
     "output_type": "execute_result"
    }
   ],
   "source": [
    "\n",
    "df.head()\n"
   ]
  },
  {
   "cell_type": "code",
   "execution_count": 34,
   "id": "1315ae77",
   "metadata": {},
   "outputs": [
    {
     "data": {
      "text/plain": [
       "date      0\n",
       "close     0\n",
       "high      0\n",
       "low       0\n",
       "open      0\n",
       "volume    0\n",
       "dtype: int64"
      ]
     },
     "execution_count": 34,
     "metadata": {},
     "output_type": "execute_result"
    }
   ],
   "source": [
    "df.isnull().sum()"
   ]
  },
  {
   "cell_type": "code",
   "execution_count": 35,
   "id": "58bc9a91",
   "metadata": {},
   "outputs": [
    {
     "data": {
      "text/plain": [
       "<AxesSubplot:ylabel='date'>"
      ]
     },
     "execution_count": 35,
     "metadata": {},
     "output_type": "execute_result"
    },
    {
     "data": {
      "image/png": "[encoded data removed]",
      "text/plain": [
       "<Figure size 432x288 with 2 Axes>"
      ]
     },
     "metadata": {
      "needs_background": "light"
     },
     "output_type": "display_data"
    }
   ],
   "source": [
    "import seaborn as sns\n",
    "sns.heatmap(df.isnull())"
   ]
  },
  {
   "cell_type": "code",
   "execution_count": 36,
   "id": "d720f69f",
   "metadata": {},
   "outputs": [
    {
     "data": {
      "text/plain": [
       "(1258, 6)"
      ]
     },
     "execution_count": 36,
     "metadata": {},
     "output_type": "execute_result"
    }
   ],
   "source": [
    "data = df.sort_index(ascending=True, axis=0)\n",
    "\n",
    "data.shape"
   ]
  },
  {
   "cell_type": "code",
   "execution_count": 37,
   "id": "e4985f1d",
   "metadata": {},
   "outputs": [
    {
     "data": {
      "text/html": [
       "<div>\n",
       "<style scoped>\n",
       "    .dataframe tbody tr th:only-of-type {\n",
       "        vertical-align: middle;\n",
       "    }\n",
       "\n",
       "    .dataframe tbody tr th {\n",
       "        vertical-align: top;\n",
       "    }\n",
       "\n",
       "    .dataframe thead th {\n",
       "        text-align: right;\n",
       "    }\n",
       "</style>\n",
       "<table border=\"1\" class=\"dataframe\">\n",
       "  <thead>\n",
       "    <tr style=\"text-align: right;\">\n",
       "      <th></th>\n",
       "      <th>date</th>\n",
       "      <th>close</th>\n",
       "      <th>high</th>\n",
       "      <th>low</th>\n",
       "      <th>open</th>\n",
       "      <th>volume</th>\n",
       "    </tr>\n",
       "    <tr>\n",
       "      <th>date</th>\n",
       "      <th></th>\n",
       "      <th></th>\n",
       "      <th></th>\n",
       "      <th></th>\n",
       "      <th></th>\n",
       "      <th></th>\n",
       "    </tr>\n",
       "  </thead>\n",
       "  <tbody>\n",
       "    <tr>\n",
       "      <th>2015-05-27 00:00:00+00:00</th>\n",
       "      <td>2015-05-27 00:00:00+00:00</td>\n",
       "      <td>132.045</td>\n",
       "      <td>132.260</td>\n",
       "      <td>130.05</td>\n",
       "      <td>130.34</td>\n",
       "      <td>45833246</td>\n",
       "    </tr>\n",
       "    <tr>\n",
       "      <th>2015-05-28 00:00:00+00:00</th>\n",
       "      <td>2015-05-28 00:00:00+00:00</td>\n",
       "      <td>131.780</td>\n",
       "      <td>131.950</td>\n",
       "      <td>131.10</td>\n",
       "      <td>131.86</td>\n",
       "      <td>30733309</td>\n",
       "    </tr>\n",
       "    <tr>\n",
       "      <th>2015-05-29 00:00:00+00:00</th>\n",
       "      <td>2015-05-29 00:00:00+00:00</td>\n",
       "      <td>130.280</td>\n",
       "      <td>131.450</td>\n",
       "      <td>129.90</td>\n",
       "      <td>131.23</td>\n",
       "      <td>50884452</td>\n",
       "    </tr>\n",
       "    <tr>\n",
       "      <th>2015-06-01 00:00:00+00:00</th>\n",
       "      <td>2015-06-01 00:00:00+00:00</td>\n",
       "      <td>130.535</td>\n",
       "      <td>131.390</td>\n",
       "      <td>130.05</td>\n",
       "      <td>131.20</td>\n",
       "      <td>32112797</td>\n",
       "    </tr>\n",
       "    <tr>\n",
       "      <th>2015-06-02 00:00:00+00:00</th>\n",
       "      <td>2015-06-02 00:00:00+00:00</td>\n",
       "      <td>129.960</td>\n",
       "      <td>130.655</td>\n",
       "      <td>129.32</td>\n",
       "      <td>129.86</td>\n",
       "      <td>33667627</td>\n",
       "    </tr>\n",
       "  </tbody>\n",
       "</table>\n",
       "</div>"
      ],
      "text/plain": [
       "                                               date    close     high     low  \\\n",
       "date                                                                            \n",
       "2015-05-27 00:00:00+00:00 2015-05-27 00:00:00+00:00  132.045  132.260  130.05   \n",
       "2015-05-28 00:00:00+00:00 2015-05-28 00:00:00+00:00  131.780  131.950  131.10   \n",
       "2015-05-29 00:00:00+00:00 2015-05-29 00:00:00+00:00  130.280  131.450  129.90   \n",
       "2015-06-01 00:00:00+00:00 2015-06-01 00:00:00+00:00  130.535  131.390  130.05   \n",
       "2015-06-02 00:00:00+00:00 2015-06-02 00:00:00+00:00  129.960  130.655  129.32   \n",
       "\n",
       "                             open    volume  \n",
       "date                                         \n",
       "2015-05-27 00:00:00+00:00  130.34  45833246  \n",
       "2015-05-28 00:00:00+00:00  131.86  30733309  \n",
       "2015-05-29 00:00:00+00:00  131.23  50884452  \n",
       "2015-06-01 00:00:00+00:00  131.20  32112797  \n",
       "2015-06-02 00:00:00+00:00  129.86  33667627  "
      ]
     },
     "execution_count": 37,
     "metadata": {},
     "output_type": "execute_result"
    }
   ],
   "source": [
    "df.head()"
   ]
  },
  {
   "cell_type": "code",
   "execution_count": 38,
   "id": "3f6be22b",
   "metadata": {},
   "outputs": [
    {
     "data": {
      "text/html": [
       "<div>\n",
       "<style scoped>\n",
       "    .dataframe tbody tr th:only-of-type {\n",
       "        vertical-align: middle;\n",
       "    }\n",
       "\n",
       "    .dataframe tbody tr th {\n",
       "        vertical-align: top;\n",
       "    }\n",
       "\n",
       "    .dataframe thead th {\n",
       "        text-align: right;\n",
       "    }\n",
       "</style>\n",
       "<table border=\"1\" class=\"dataframe\">\n",
       "  <thead>\n",
       "    <tr style=\"text-align: right;\">\n",
       "      <th></th>\n",
       "      <th>date</th>\n",
       "      <th>close</th>\n",
       "      <th>high</th>\n",
       "      <th>low</th>\n",
       "      <th>open</th>\n",
       "      <th>volume</th>\n",
       "    </tr>\n",
       "    <tr>\n",
       "      <th>date</th>\n",
       "      <th></th>\n",
       "      <th></th>\n",
       "      <th></th>\n",
       "      <th></th>\n",
       "      <th></th>\n",
       "      <th></th>\n",
       "    </tr>\n",
       "  </thead>\n",
       "  <tbody>\n",
       "    <tr>\n",
       "      <th>2020-05-18 00:00:00+00:00</th>\n",
       "      <td>2020-05-18 00:00:00+00:00</td>\n",
       "      <td>314.96</td>\n",
       "      <td>316.50</td>\n",
       "      <td>310.3241</td>\n",
       "      <td>313.17</td>\n",
       "      <td>33843125</td>\n",
       "    </tr>\n",
       "    <tr>\n",
       "      <th>2020-05-19 00:00:00+00:00</th>\n",
       "      <td>2020-05-19 00:00:00+00:00</td>\n",
       "      <td>313.14</td>\n",
       "      <td>318.52</td>\n",
       "      <td>313.0100</td>\n",
       "      <td>315.03</td>\n",
       "      <td>25432385</td>\n",
       "    </tr>\n",
       "    <tr>\n",
       "      <th>2020-05-20 00:00:00+00:00</th>\n",
       "      <td>2020-05-20 00:00:00+00:00</td>\n",
       "      <td>319.23</td>\n",
       "      <td>319.52</td>\n",
       "      <td>316.2000</td>\n",
       "      <td>316.68</td>\n",
       "      <td>27876215</td>\n",
       "    </tr>\n",
       "    <tr>\n",
       "      <th>2020-05-21 00:00:00+00:00</th>\n",
       "      <td>2020-05-21 00:00:00+00:00</td>\n",
       "      <td>316.85</td>\n",
       "      <td>320.89</td>\n",
       "      <td>315.8700</td>\n",
       "      <td>318.66</td>\n",
       "      <td>25672211</td>\n",
       "    </tr>\n",
       "    <tr>\n",
       "      <th>2020-05-22 00:00:00+00:00</th>\n",
       "      <td>2020-05-22 00:00:00+00:00</td>\n",
       "      <td>318.89</td>\n",
       "      <td>319.23</td>\n",
       "      <td>315.3500</td>\n",
       "      <td>315.77</td>\n",
       "      <td>20450754</td>\n",
       "    </tr>\n",
       "  </tbody>\n",
       "</table>\n",
       "</div>"
      ],
      "text/plain": [
       "                                               date   close    high       low  \\\n",
       "date                                                                            \n",
       "2020-05-18 00:00:00+00:00 2020-05-18 00:00:00+00:00  314.96  316.50  310.3241   \n",
       "2020-05-19 00:00:00+00:00 2020-05-19 00:00:00+00:00  313.14  318.52  313.0100   \n",
       "2020-05-20 00:00:00+00:00 2020-05-20 00:00:00+00:00  319.23  319.52  316.2000   \n",
       "2020-05-21 00:00:00+00:00 2020-05-21 00:00:00+00:00  316.85  320.89  315.8700   \n",
       "2020-05-22 00:00:00+00:00 2020-05-22 00:00:00+00:00  318.89  319.23  315.3500   \n",
       "\n",
       "                             open    volume  \n",
       "date                                         \n",
       "2020-05-18 00:00:00+00:00  313.17  33843125  \n",
       "2020-05-19 00:00:00+00:00  315.03  25432385  \n",
       "2020-05-20 00:00:00+00:00  316.68  27876215  \n",
       "2020-05-21 00:00:00+00:00  318.66  25672211  \n",
       "2020-05-22 00:00:00+00:00  315.77  20450754  "
      ]
     },
     "execution_count": 38,
     "metadata": {},
     "output_type": "execute_result"
    }
   ],
   "source": [
    "df.tail()"
   ]
  },
  {
   "cell_type": "code",
   "execution_count": 55,
   "id": "6ca44a03",
   "metadata": {},
   "outputs": [
    {
     "data": {
      "text/plain": [
       "Index(['date', 'close', 'high', 'low', 'open', 'volume'], dtype='object')"
      ]
     },
     "execution_count": 55,
     "metadata": {},
     "output_type": "execute_result"
    }
   ],
   "source": [
    "df.columns"
   ]
  },
  {
   "cell_type": "code",
   "execution_count": 56,
   "id": "0b37e6f5",
   "metadata": {},
   "outputs": [
    {
     "data": {
      "text/plain": [
       "date\n",
       "2015-05-27 00:00:00+00:00    1432684800000000000\n",
       "2015-05-28 00:00:00+00:00    1432771200000000000\n",
       "2015-05-29 00:00:00+00:00    1432857600000000000\n",
       "2015-06-01 00:00:00+00:00    1433116800000000000\n",
       "2015-06-02 00:00:00+00:00    1433203200000000000\n",
       "                                    ...         \n",
       "2020-05-18 00:00:00+00:00    1589760000000000000\n",
       "2020-05-19 00:00:00+00:00    1589846400000000000\n",
       "2020-05-20 00:00:00+00:00    1589932800000000000\n",
       "2020-05-21 00:00:00+00:00    1590019200000000000\n",
       "2020-05-22 00:00:00+00:00    1590105600000000000\n",
       "Name: date, Length: 1258, dtype: int64"
      ]
     },
     "execution_count": 56,
     "metadata": {},
     "output_type": "execute_result"
    }
   ],
   "source": [
    "df['date'] = pd.to_numeric(pd.to_datetime(df['date']))\n",
    "\n",
    "df['date']"
   ]
  },
  {
   "cell_type": "code",
   "execution_count": 57,
   "id": "d0fb81bb",
   "metadata": {},
   "outputs": [],
   "source": [
    "train = df[:629]\n",
    "valid = df[629:]\n"
   ]
  },
  {
   "cell_type": "code",
   "execution_count": 58,
   "id": "a283b9d3",
   "metadata": {},
   "outputs": [],
   "source": [
    "x_train = train.drop(['close', 'high', 'low', 'open', 'volume'], axis=1)\n",
    "y_train = train['close']\n",
    "\n",
    "x_valid = valid.drop(['close', 'high', 'low', 'open', 'volume'], axis=1)\n",
    "y_valid = valid['close']\n"
   ]
  },
  {
   "cell_type": "code",
   "execution_count": 59,
   "id": "82e03252",
   "metadata": {},
   "outputs": [
    {
     "data": {
      "text/plain": [
       "LinearRegression()"
      ]
     },
     "execution_count": 59,
     "metadata": {},
     "output_type": "execute_result"
    }
   ],
   "source": [
    "#linear regression\n",
    "from sklearn.linear_model import LinearRegression\n",
    "model = LinearRegression()\n",
    "model.fit(x_train,y_train)"
   ]
  },
  {
   "cell_type": "code",
   "execution_count": 60,
   "id": "6d623e74",
   "metadata": {},
   "outputs": [
    {
     "data": {
      "text/plain": [
       "50.572681068434676"
      ]
     },
     "execution_count": 60,
     "metadata": {},
     "output_type": "execute_result"
    }
   ],
   "source": [
    "#rmse\n",
    "preds = model.predict(x_valid)\n",
    "rms=np.sqrt(np.mean(np.power((np.array(y_valid)-np.array(preds)),2)))\n",
    "rms"
   ]
  },
  {
   "cell_type": "code",
   "execution_count": 61,
   "id": "e34c0c48",
   "metadata": {},
   "outputs": [
    {
     "name": "stderr",
     "output_type": "stream",
     "text": [
      "<ipython-input-61-31ea9229cbca>:2: SettingWithCopyWarning: \n",
      "A value is trying to be set on a copy of a slice from a DataFrame.\n",
      "Try using .loc[row_indexer,col_indexer] = value instead\n",
      "\n",
      "See the caveats in the documentation: https://pandas.pydata.org/pandas-docs/stable/user_guide/indexing.html#returning-a-view-versus-a-copy\n",
      "  valid['Predictions'] = 0\n",
      "<ipython-input-61-31ea9229cbca>:3: SettingWithCopyWarning: \n",
      "A value is trying to be set on a copy of a slice from a DataFrame.\n",
      "Try using .loc[row_indexer,col_indexer] = value instead\n",
      "\n",
      "See the caveats in the documentation: https://pandas.pydata.org/pandas-docs/stable/user_guide/indexing.html#returning-a-view-versus-a-copy\n",
      "  valid['Predictions'] = preds\n"
     ]
    },
    {
     "data": {
      "text/plain": [
       "[<matplotlib.lines.Line2D at 0x2764102dc10>,\n",
       " <matplotlib.lines.Line2D at 0x2764102dcd0>]"
      ]
     },
     "execution_count": 61,
     "metadata": {},
     "output_type": "execute_result"
    },
    {
     "data": {
      "image/png": "[encoded data removed]",
      "text/plain": [
       "<Figure size 640x480 with 1 Axes>"
      ]
     },
     "metadata": {
      "needs_background": "light"
     },
     "output_type": "display_data"
    }
   ],
   "source": [
    "#plot\n",
    "valid['Predictions'] = 0\n",
    "valid['Predictions'] = preds\n",
    "\n",
    "valid.index = df[629:].index\n",
    "train.index = df[:629].index\n",
    "from matplotlib.pyplot import figure\n",
    "\n",
    "figure(figsize=(8, 6), dpi=80)\n",
    "\n",
    "\n",
    "plt.plot(train['close'])\n",
    "plt.plot(valid[['close', 'Predictions']])"
   ]
  },
  {
   "cell_type": "markdown",
   "id": "5f728235",
   "metadata": {},
   "source": [
    "# k-Nearest Neighbors"
   ]
  },
  {
   "cell_type": "code",
   "execution_count": 62,
   "id": "2ebea62c",
   "metadata": {},
   "outputs": [],
   "source": [
    "from sklearn import neighbors\n",
    "from sklearn.model_selection import GridSearchCV\n",
    "from sklearn.preprocessing import MinMaxScaler\n",
    "scaler = MinMaxScaler(feature_range=(0, 1))"
   ]
  },
  {
   "cell_type": "code",
   "execution_count": 63,
   "id": "c219f701",
   "metadata": {},
   "outputs": [],
   "source": [
    "x_train_scaled = scaler.fit_transform(x_train)\n",
    "x_train = pd.DataFrame(x_train_scaled)\n",
    "x_valid_scaled = scaler.fit_transform(x_valid)\n",
    "x_valid = pd.DataFrame(x_valid_scaled)\n"
   ]
  },
  {
   "cell_type": "code",
   "execution_count": 64,
   "id": "066af0ae",
   "metadata": {},
   "outputs": [],
   "source": [
    "params = {'n_neighbors':[2,3,4,5,6,7,8,9]}\n",
    "knn = neighbors.KNeighborsRegressor()\n",
    "model = GridSearchCV(knn, params, cv=5)"
   ]
  },
  {
   "cell_type": "code",
   "execution_count": 65,
   "id": "1e9f65b7",
   "metadata": {},
   "outputs": [],
   "source": [
    "model.fit(x_train,y_train)\n",
    "preds = model.predict(x_valid)"
   ]
  },
  {
   "cell_type": "code",
   "execution_count": 66,
   "id": "7ad2a49d",
   "metadata": {},
   "outputs": [
    {
     "data": {
      "text/plain": [
       "94.18608648022987"
      ]
     },
     "execution_count": 66,
     "metadata": {},
     "output_type": "execute_result"
    }
   ],
   "source": [
    "#rmse\n",
    "rms=np.sqrt(np.mean(np.power((np.array(y_valid)-np.array(preds)),2)))\n",
    "rms"
   ]
  },
  {
   "cell_type": "code",
   "execution_count": 67,
   "id": "d3418964",
   "metadata": {},
   "outputs": [
    {
     "name": "stderr",
     "output_type": "stream",
     "text": [
      "<ipython-input-67-5043f4d635d2>:1: SettingWithCopyWarning: \n",
      "A value is trying to be set on a copy of a slice from a DataFrame.\n",
      "Try using .loc[row_indexer,col_indexer] = value instead\n",
      "\n",
      "See the caveats in the documentation: https://pandas.pydata.org/pandas-docs/stable/user_guide/indexing.html#returning-a-view-versus-a-copy\n",
      "  valid['Predictions'] = 0\n",
      "<ipython-input-67-5043f4d635d2>:2: SettingWithCopyWarning: \n",
      "A value is trying to be set on a copy of a slice from a DataFrame.\n",
      "Try using .loc[row_indexer,col_indexer] = value instead\n",
      "\n",
      "See the caveats in the documentation: https://pandas.pydata.org/pandas-docs/stable/user_guide/indexing.html#returning-a-view-versus-a-copy\n",
      "  valid['Predictions'] = preds\n"
     ]
    },
    {
     "data": {
      "text/plain": [
       "[<matplotlib.lines.Line2D at 0x27641708a60>]"
      ]
     },
     "execution_count": 67,
     "metadata": {},
     "output_type": "execute_result"
    },
    {
     "data": {
      "image/png": "[encoded data removed]",
      "text/plain": [
       "<Figure size 640x480 with 1 Axes>"
      ]
     },
     "metadata": {
      "needs_background": "light"
     },
     "output_type": "display_data"
    }
   ],
   "source": [
    "valid['Predictions'] = 0\n",
    "valid['Predictions'] = preds\n",
    "from matplotlib.pyplot import figure\n",
    "\n",
    "figure(figsize=(8, 6), dpi=80)\n",
    "\n",
    "plt.plot(valid[['close', 'Predictions']])\n",
    "plt.plot(train['close'])"
   ]
  },
  {
   "cell_type": "markdown",
   "id": "2ab666ab",
   "metadata": {},
   "source": [
    "# Conclusion\n",
    "\n",
    "\n",
    "In Long Short Term Memory (LSTM) model, we get Root-mean-square error (RMSE) value 143.27\n",
    "\n",
    "In  Linear Regression model,we get Root-mean-square error (RMSE) value 50.57\n",
    "\n",
    "In KNN model,we get Root-mean-square error (RMSE) value 94.18.\n",
    "\n",
    "So the Long short-term memory (LSTM) stand out to be the best model among all those implemented models based on the accuracy scores."
   ]
  }
 ],
 "metadata": {
  "kernelspec": {
   "display_name": "Python 3",
   "language": "python",
   "name": "python3"
  },
  "language_info": {
   "codemirror_mode": {
    "name": "ipython",
    "version": 3
   },
   "file_extension": ".py",
   "mimetype": "text/x-python",
   "name": "python",
   "nbconvert_exporter": "python",
   "pygments_lexer": "ipython3",
   "version": "3.8.8"
  }
 },
 "nbformat": 4,
 "nbformat_minor": 5
}
